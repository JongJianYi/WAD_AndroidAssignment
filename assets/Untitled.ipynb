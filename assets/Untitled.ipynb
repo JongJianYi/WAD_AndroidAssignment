{
 "cells": [
  {
   "cell_type": "code",
   "execution_count": null,
   "id": "d64885be",
   "metadata": {},
   "outputs": [],
   "source": [
    "import sqlite3\n",
    "db = sqlite3.connect('db.sqlite')\n",
    "\n",
    "db.execute('''CREATE TABLE students\n",
    "    id integer PRIMARY KEY''')"
   ]
  }
 ],
 "metadata": {
  "kernelspec": {
   "display_name": "Python 3",
   "language": "python",
   "name": "python3"
  },
  "language_info": {
   "codemirror_mode": {
    "name": "ipython",
    "version": 3
   },
   "file_extension": ".py",
   "mimetype": "text/x-python",
   "name": "python",
   "nbconvert_exporter": "python",
   "pygments_lexer": "ipython3",
   "version": "3.8.8"
  }
 },
 "nbformat": 4,
 "nbformat_minor": 5
}
